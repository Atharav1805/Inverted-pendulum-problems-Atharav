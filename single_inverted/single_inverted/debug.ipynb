{
 "cells": [
  {
   "cell_type": "code",
   "execution_count": 1,
   "metadata": {},
   "outputs": [],
   "source": [
    "import numpy as np\n"
   ]
  },
  {
   "cell_type": "code",
   "execution_count": null,
   "metadata": {},
   "outputs": [],
   "source": [
    "\n",
    "for i in range(1000):\n",
    "    dt = 0.05\n",
    "\n",
    "        # Intermediate Calculations\n",
    "    inertia = self.mass*self.l*self.l\n",
    "\n",
    "    net_torque = 1 - self.mass * self.g * self.l * sin(self.theta)\n",
    "    \n",
    "    theta_dot_dot = net_torque / inertia\n",
    "\n",
    "    # Updating states\n",
    "    self.theta += self.theta_dot * dt\n",
    "    if self.theta > 2*np.pi:\n",
    "        self.theta -= 2*np.pi\n",
    "    elif self.theta <0:\n",
    "        self.theta += 2*np.pi\n",
    "    self.theta_dot += theta_dot_dot * dt"
   ]
  }
 ],
 "metadata": {
  "kernelspec": {
   "display_name": "Python 3",
   "language": "python",
   "name": "python3"
  },
  "language_info": {
   "codemirror_mode": {
    "name": "ipython",
    "version": 3
   },
   "file_extension": ".py",
   "mimetype": "text/x-python",
   "name": "python",
   "nbconvert_exporter": "python",
   "pygments_lexer": "ipython3",
   "version": "3.8.10"
  }
 },
 "nbformat": 4,
 "nbformat_minor": 2
}
